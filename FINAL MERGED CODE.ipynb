{
 "cells": [
  {
   "cell_type": "code",
   "execution_count": 1,
   "id": "cbba0773",
   "metadata": {},
   "outputs": [
    {
     "name": "stdout",
     "output_type": "stream",
     "text": [
      "Requirement already satisfied: pmdarima in c:\\users\\aashr\\anaconda3\\lib\\site-packages (2.0.1)\n",
      "Requirement already satisfied: urllib3 in c:\\users\\aashr\\anaconda3\\lib\\site-packages (from pmdarima) (1.26.9)\n",
      "Requirement already satisfied: scipy>=1.3.2 in c:\\users\\aashr\\anaconda3\\lib\\site-packages (from pmdarima) (1.7.3)\n",
      "Requirement already satisfied: setuptools!=50.0.0,>=38.6.0 in c:\\users\\aashr\\anaconda3\\lib\\site-packages (from pmdarima) (61.2.0)\n",
      "Requirement already satisfied: pandas>=0.19 in c:\\users\\aashr\\anaconda3\\lib\\site-packages (from pmdarima) (1.4.2)\n",
      "Requirement already satisfied: Cython!=0.29.18,!=0.29.31,>=0.29 in c:\\users\\aashr\\anaconda3\\lib\\site-packages (from pmdarima) (0.29.28)\n",
      "Requirement already satisfied: joblib>=0.11 in c:\\users\\aashr\\anaconda3\\lib\\site-packages (from pmdarima) (1.1.0)\n",
      "Requirement already satisfied: statsmodels>=0.13.2 in c:\\users\\aashr\\anaconda3\\lib\\site-packages (from pmdarima) (0.13.2)\n",
      "Requirement already satisfied: scikit-learn>=0.22 in c:\\users\\aashr\\anaconda3\\lib\\site-packages (from pmdarima) (1.0.2)\n",
      "Requirement already satisfied: numpy>=1.21 in c:\\users\\aashr\\anaconda3\\lib\\site-packages (from pmdarima) (1.21.5)\n",
      "Requirement already satisfied: pytz>=2020.1 in c:\\users\\aashr\\anaconda3\\lib\\site-packages (from pandas>=0.19->pmdarima) (2021.3)\n",
      "Requirement already satisfied: python-dateutil>=2.8.1 in c:\\users\\aashr\\anaconda3\\lib\\site-packages (from pandas>=0.19->pmdarima) (2.8.2)\n",
      "Requirement already satisfied: six>=1.5 in c:\\users\\aashr\\anaconda3\\lib\\site-packages (from python-dateutil>=2.8.1->pandas>=0.19->pmdarima) (1.16.0)\n",
      "Requirement already satisfied: threadpoolctl>=2.0.0 in c:\\users\\aashr\\anaconda3\\lib\\site-packages (from scikit-learn>=0.22->pmdarima) (2.2.0)\n",
      "Requirement already satisfied: patsy>=0.5.2 in c:\\users\\aashr\\anaconda3\\lib\\site-packages (from statsmodels>=0.13.2->pmdarima) (0.5.2)\n",
      "Requirement already satisfied: packaging>=21.3 in c:\\users\\aashr\\anaconda3\\lib\\site-packages (from statsmodels>=0.13.2->pmdarima) (21.3)\n",
      "Requirement already satisfied: pyparsing!=3.0.5,>=2.0.2 in c:\\users\\aashr\\anaconda3\\lib\\site-packages (from packaging>=21.3->statsmodels>=0.13.2->pmdarima) (3.0.4)\n"
     ]
    }
   ],
   "source": [
    "import numpy as np\n",
    "import pandas as pd\n",
    "from statsmodels.tsa.seasonal import seasonal_decompose\n",
    "from matplotlib import pyplot\n",
    "import matplotlib.pyplot as plt\n",
    "!pip install pmdarima\n",
    "from pmdarima import auto_arima\n",
    "import warnings\n",
    "from statsmodels.tsa.statespace.sarimax import SARIMAX\n",
    "from sklearn.metrics import mean_squared_error\n",
    "from statsmodels.tools.eval_measures import rmse\n",
    "from sklearn.preprocessing import MinMaxScaler\n",
    "from keras.preprocessing.sequence import TimeseriesGenerator\n",
    "from keras.models import Sequential\n",
    "from keras.layers import Dense\n",
    "from keras.layers import LSTM\n",
    "from math import sqrt"
   ]
  },
  {
   "cell_type": "code",
   "execution_count": 2,
   "id": "efa68529",
   "metadata": {},
   "outputs": [
    {
     "data": {
      "text/plain": [
       "Tickets    int64\n",
       "dtype: object"
      ]
     },
     "execution_count": 2,
     "metadata": {},
     "output_type": "execute_result"
    }
   ],
   "source": [
    "data=pd.read_csv(\"C:\\\\Users\\\\aashr\\\\Downloads\\\\All_tickets.csv\",index_col='Date',parse_dates=True)"
   ]
  },
  {
   "cell_type": "code",
   "execution_count": 4,
   "id": "e78f4b16",
   "metadata": {},
   "outputs": [],
   "source": [
    "warnings.filterwarnings(\"ignore\")"
   ]
  },
  {
   "cell_type": "code",
   "execution_count": 5,
   "id": "b3ba0b3f",
   "metadata": {},
   "outputs": [],
   "source": [
    "data.index.freq='MS'"
   ]
  },
  {
   "cell_type": "code",
   "execution_count": 6,
   "id": "c6d4a18c",
   "metadata": {},
   "outputs": [],
   "source": [
    "data =data.dropna()"
   ]
  },
  {
   "cell_type": "code",
   "execution_count": 7,
   "id": "b8da824b",
   "metadata": {},
   "outputs": [],
   "source": [
    "def arima_sarima(data):\n",
    "    rmse_error=0\n",
    "    result = seasonal_decompose(data['Tickets'],model ='multiplicative',period=1)\n",
    "    stepwise_fit = auto_arima(data['Tickets'], start_p = 1, start_q = 1,max_p = 3, max_q = 3, m = 12,\n",
    "                          start_P = 0, seasonal = True,\n",
    "                          d = None, D = 1, trace = True,\n",
    "                          error_action ='ignore',\n",
    "                          suppress_warnings = True,\n",
    "                          stepwise = True) \n",
    "    train = data.iloc[:len(data)-12]\n",
    "    test = data.iloc[len(data)-12:] \n",
    "    model = SARIMAX(train['Tickets'], \n",
    "                order = (1,0,0), \n",
    "                seasonal_order =(0, 1, 0, 12))\n",
    "    result = model.fit()\n",
    "    start = len(train)\n",
    "    end = len(train) + len(test) - 1\n",
    "    predictions = result.predict(start, end,typ = 'levels').rename(\"Predictions\")\n",
    "    rmse_error=rmse(test[\"Tickets\"], predictions)\n",
    "    mse=mean_squared_error(test[\"Tickets\"], predictions)\n",
    "    return rmse_error"
   ]
  },
  {
   "cell_type": "code",
   "execution_count": 8,
   "id": "69d9d07a",
   "metadata": {},
   "outputs": [],
   "source": [
    "def lstm(data):\n",
    "    results = seasonal_decompose(data['Tickets'])\n",
    "    train = data.iloc[:48]\n",
    "    test = data.iloc[48:]\n",
    "    test1=test.copy()\n",
    "    scaler = MinMaxScaler()\n",
    "    scaler.fit(train)\n",
    "    scaled_train = scaler.transform(train)\n",
    "    scaled_test = scaler.transform(test)\n",
    "    scaled_train[:10]\n",
    "    n_input = 3\n",
    "    n_features = 1\n",
    "    generator = TimeseriesGenerator(scaled_train, scaled_train, length=n_input, batch_size=1)\n",
    "    X,y = generator[0]\n",
    "    n_input = 12\n",
    "    generator = TimeseriesGenerator(scaled_train, scaled_train, length=n_input, batch_size=1)\n",
    "    model = Sequential()\n",
    "    model.add(LSTM(100, activation='relu', input_shape=(n_input, n_features)))\n",
    "    model.add(Dense(1))\n",
    "    model.compile(optimizer='adam', loss='mse')\n",
    "    model.fit(generator,epochs=50)\n",
    "    loss_per_epoch = model.history.history['loss']\n",
    "    last_train_batch = scaled_train[-12:]\n",
    "    last_train_batch = last_train_batch.reshape((1, n_input, n_features))\n",
    "    model.predict(last_train_batch)\n",
    "    test_predictions = []\n",
    "\n",
    "    first_eval_batch = scaled_train[-n_input:]\n",
    "    current_batch = first_eval_batch.reshape((1, n_input, n_features))\n",
    "    for i in range(len(test)):\n",
    "        current_pred = model.predict(current_batch)[0]\n",
    "        test_predictions.append(current_pred)\n",
    "        current_batch = np.append(current_batch[:,1:,:],[[current_pred]],axis=1)\n",
    "    true_predictions = scaler.inverse_transform(test_predictions)\n",
    "    test['Predictions'] = true_predictions\n",
    "    rmse=sqrt(mean_squared_error(test1['Tickets'],test['Predictions']))\n",
    "    return rmse"
   ]
  },
  {
   "cell_type": "code",
   "execution_count": 9,
   "id": "ef6a7e0d",
   "metadata": {},
   "outputs": [
    {
     "name": "stdout",
     "output_type": "stream",
     "text": [
      "Performing stepwise search to minimize aic\n",
      " ARIMA(1,0,1)(0,1,1)[12] intercept   : AIC=674.783, Time=0.89 sec\n",
      " ARIMA(0,0,0)(0,1,0)[12] intercept   : AIC=675.030, Time=0.06 sec\n",
      " ARIMA(1,0,0)(1,1,0)[12] intercept   : AIC=673.406, Time=0.73 sec\n",
      " ARIMA(0,0,1)(0,1,1)[12] intercept   : AIC=674.513, Time=0.40 sec\n",
      " ARIMA(0,0,0)(0,1,0)[12]             : AIC=695.488, Time=0.06 sec\n",
      " ARIMA(1,0,0)(0,1,0)[12] intercept   : AIC=672.431, Time=0.08 sec\n",
      " ARIMA(1,0,0)(0,1,1)[12] intercept   : AIC=673.396, Time=0.35 sec\n",
      " ARIMA(1,0,0)(1,1,1)[12] intercept   : AIC=675.413, Time=0.29 sec\n",
      " ARIMA(2,0,0)(0,1,0)[12] intercept   : AIC=673.781, Time=0.20 sec\n",
      " ARIMA(1,0,1)(0,1,0)[12] intercept   : AIC=673.686, Time=0.36 sec\n",
      " ARIMA(0,0,1)(0,1,0)[12] intercept   : AIC=673.272, Time=0.16 sec\n",
      " ARIMA(2,0,1)(0,1,0)[12] intercept   : AIC=675.610, Time=0.50 sec\n",
      " ARIMA(1,0,0)(0,1,0)[12]             : AIC=678.958, Time=0.09 sec\n",
      "\n",
      "Best model:  ARIMA(1,0,0)(0,1,0)[12] intercept\n",
      "Total fit time: 4.225 seconds\n"
     ]
    }
   ],
   "source": [
    "x=arima_sarima(data)"
   ]
  },
  {
   "cell_type": "code",
   "execution_count": 12,
   "id": "10e5a297",
   "metadata": {},
   "outputs": [
    {
     "name": "stdout",
     "output_type": "stream",
     "text": [
      "Epoch 1/50\n",
      "36/36 [==============================] - 6s 13ms/step - loss: 0.0941\n",
      "Epoch 2/50\n",
      "36/36 [==============================] - 1s 13ms/step - loss: 0.0570\n",
      "Epoch 3/50\n",
      "36/36 [==============================] - 0s 13ms/step - loss: 0.0509\n",
      "Epoch 4/50\n",
      "36/36 [==============================] - 0s 13ms/step - loss: 0.0485\n",
      "Epoch 5/50\n",
      "36/36 [==============================] - 0s 13ms/step - loss: 0.0472\n",
      "Epoch 6/50\n",
      "36/36 [==============================] - 0s 13ms/step - loss: 0.0486\n",
      "Epoch 7/50\n",
      "36/36 [==============================] - 1s 13ms/step - loss: 0.0491\n",
      "Epoch 8/50\n",
      "36/36 [==============================] - 0s 13ms/step - loss: 0.0453\n",
      "Epoch 9/50\n",
      "36/36 [==============================] - 1s 14ms/step - loss: 0.0421\n",
      "Epoch 10/50\n",
      "36/36 [==============================] - 1s 14ms/step - loss: 0.0410\n",
      "Epoch 11/50\n",
      "36/36 [==============================] - 1s 13ms/step - loss: 0.0431\n",
      "Epoch 12/50\n",
      "36/36 [==============================] - 1s 13ms/step - loss: 0.0450\n",
      "Epoch 13/50\n",
      "36/36 [==============================] - 1s 13ms/step - loss: 0.0423\n",
      "Epoch 14/50\n",
      "36/36 [==============================] - 1s 13ms/step - loss: 0.0386\n",
      "Epoch 15/50\n",
      "36/36 [==============================] - 1s 13ms/step - loss: 0.0414\n",
      "Epoch 16/50\n",
      "36/36 [==============================] - 0s 13ms/step - loss: 0.0287\n",
      "Epoch 17/50\n",
      "36/36 [==============================] - 1s 13ms/step - loss: 0.0235\n",
      "Epoch 18/50\n",
      "36/36 [==============================] - 1s 13ms/step - loss: 0.0512\n",
      "Epoch 19/50\n",
      "36/36 [==============================] - 1s 13ms/step - loss: 0.0297\n",
      "Epoch 20/50\n",
      "36/36 [==============================] - 1s 13ms/step - loss: 0.0236\n",
      "Epoch 21/50\n",
      "36/36 [==============================] - 0s 13ms/step - loss: 0.0393\n",
      "Epoch 22/50\n",
      "36/36 [==============================] - 1s 13ms/step - loss: 0.0266\n",
      "Epoch 23/50\n",
      "36/36 [==============================] - 0s 13ms/step - loss: 0.0234\n",
      "Epoch 24/50\n",
      "36/36 [==============================] - 1s 13ms/step - loss: 0.0243\n",
      "Epoch 25/50\n",
      "36/36 [==============================] - 1s 13ms/step - loss: 0.0265\n",
      "Epoch 26/50\n",
      "36/36 [==============================] - 0s 13ms/step - loss: 0.0210\n",
      "Epoch 27/50\n",
      "36/36 [==============================] - 0s 13ms/step - loss: 0.0221\n",
      "Epoch 28/50\n",
      "36/36 [==============================] - 1s 13ms/step - loss: 0.0151\n",
      "Epoch 29/50\n",
      "36/36 [==============================] - 1s 14ms/step - loss: 0.0275\n",
      "Epoch 30/50\n",
      "36/36 [==============================] - 0s 13ms/step - loss: 0.0201\n",
      "Epoch 31/50\n",
      "36/36 [==============================] - 1s 13ms/step - loss: 0.0202\n",
      "Epoch 32/50\n",
      "36/36 [==============================] - 1s 14ms/step - loss: 0.0170\n",
      "Epoch 33/50\n",
      "36/36 [==============================] - 0s 13ms/step - loss: 0.0210\n",
      "Epoch 34/50\n",
      "36/36 [==============================] - 1s 14ms/step - loss: 0.0163\n",
      "Epoch 35/50\n",
      "36/36 [==============================] - 1s 13ms/step - loss: 0.0162\n",
      "Epoch 36/50\n",
      "36/36 [==============================] - 1s 13ms/step - loss: 0.0276\n",
      "Epoch 37/50\n",
      "36/36 [==============================] - 1s 13ms/step - loss: 0.0237\n",
      "Epoch 38/50\n",
      "36/36 [==============================] - 0s 13ms/step - loss: 0.0166\n",
      "Epoch 39/50\n",
      "36/36 [==============================] - 1s 13ms/step - loss: 0.0220\n",
      "Epoch 40/50\n",
      "36/36 [==============================] - 1s 13ms/step - loss: 0.0139\n",
      "Epoch 41/50\n",
      "36/36 [==============================] - 0s 13ms/step - loss: 0.0141\n",
      "Epoch 42/50\n",
      "36/36 [==============================] - 1s 13ms/step - loss: 0.0132\n",
      "Epoch 43/50\n",
      "36/36 [==============================] - 1s 13ms/step - loss: 0.0132\n",
      "Epoch 44/50\n",
      "36/36 [==============================] - 1s 13ms/step - loss: 0.0138\n",
      "Epoch 45/50\n",
      "36/36 [==============================] - 0s 13ms/step - loss: 0.0133\n",
      "Epoch 46/50\n",
      "36/36 [==============================] - 1s 13ms/step - loss: 0.0117\n",
      "Epoch 47/50\n",
      "36/36 [==============================] - 1s 14ms/step - loss: 0.0114\n",
      "Epoch 48/50\n",
      "36/36 [==============================] - 1s 13ms/step - loss: 0.0104\n",
      "Epoch 49/50\n",
      "36/36 [==============================] - 0s 13ms/step - loss: 0.0164\n",
      "Epoch 50/50\n",
      "36/36 [==============================] - 1s 13ms/step - loss: 0.0194\n",
      "1/1 [==============================] - 1s 570ms/step\n",
      "1/1 [==============================] - 0s 67ms/step\n",
      "1/1 [==============================] - 0s 80ms/step\n",
      "1/1 [==============================] - 0s 66ms/step\n",
      "1/1 [==============================] - 0s 63ms/step\n",
      "1/1 [==============================] - 0s 66ms/step\n",
      "1/1 [==============================] - 0s 68ms/step\n",
      "1/1 [==============================] - 0s 67ms/step\n",
      "1/1 [==============================] - 0s 61ms/step\n",
      "1/1 [==============================] - 0s 63ms/step\n",
      "1/1 [==============================] - 0s 62ms/step\n",
      "1/1 [==============================] - 0s 62ms/step\n",
      "1/1 [==============================] - 0s 62ms/step\n"
     ]
    }
   ],
   "source": [
    "y=lstm(data)"
   ]
  },
  {
   "cell_type": "code",
   "execution_count": 13,
   "id": "71b697f1",
   "metadata": {},
   "outputs": [
    {
     "name": "stdout",
     "output_type": "stream",
     "text": [
      "rmse of arima-sarima prediction is: 164.15575968167173\n",
      "rmse of lstm prediction is: 2866.836873498728\n",
      "the best model fit is arima-sarima:\n"
     ]
    },
    {
     "data": {
      "image/png": "[encoded data removed]",
      "text/plain": [
       "<Figure size 864x360 with 1 Axes>"
      ]
     },
     "metadata": {
      "needs_background": "light"
     },
     "output_type": "display_data"
    }
   ],
   "source": [
    "print('rmse of arima-sarima prediction is:',x)\n",
    "print('rmse of lstm prediction is:',y)\n",
    "if(x<y):\n",
    "    print('the best model fit is arima-sarima:')\n",
    "    model = model = SARIMAX(data['Tickets'], \n",
    "                        order = (1, 0,0), \n",
    "                        seasonal_order =(0, 1, 0, 12))\n",
    "    result = model.fit()\n",
    "    forecast = result.predict(start = len(data), \n",
    "                          end = (len(data)-1) + 3 * 12, \n",
    "                          typ = 'levels').rename('Forecast')\n",
    "    data['Tickets'].plot(figsize = (12, 5), legend = True)\n",
    "    plt.title('The forecasted graph for next 3years')\n",
    "    forecast.plot(legend = True)"
   ]
  }
 ],
 "metadata": {
  "kernelspec": {
   "display_name": "Python 3 (ipykernel)",
   "language": "python",
   "name": "python3"
  },
  "language_info": {
   "codemirror_mode": {
    "name": "ipython",
    "version": 3
   },
   "file_extension": ".py",
   "mimetype": "text/x-python",
   "name": "python",
   "nbconvert_exporter": "python",
   "pygments_lexer": "ipython3",
   "version": "3.9.12"
  }
 },
 "nbformat": 4,
 "nbformat_minor": 5
}
